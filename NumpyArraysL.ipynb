{
 "cells": [
  {
   "cell_type": "code",
   "execution_count": 1,
   "id": "f34514f4-d510-45b7-9cf7-1e7c1021dcf3",
   "metadata": {},
   "outputs": [],
   "source": [
    "import uproot"
   ]
  },
  {
   "cell_type": "code",
   "execution_count": 2,
   "id": "eec99e0d-a8d8-4a6e-9a37-403708616a5d",
   "metadata": {},
   "outputs": [],
   "source": [
    "import numpy"
   ]
  },
  {
   "cell_type": "code",
   "execution_count": 3,
   "id": "e5a07f3a-d2ec-474d-9146-0cfcb7ff5c2d",
   "metadata": {},
   "outputs": [],
   "source": [
    "import vector"
   ]
  },
  {
   "cell_type": "code",
   "execution_count": 4,
   "id": "4f0b947d-f6dc-4dda-b57c-170aee8da24d",
   "metadata": {},
   "outputs": [],
   "source": [
    "import matplotlib.pyplot as plt"
   ]
  },
  {
   "cell_type": "code",
   "execution_count": 5,
   "id": "f6692efe-d947-43cf-a756-cafd3a014d96",
   "metadata": {},
   "outputs": [],
   "source": [
    "fileL = uproot.open(\"/home/TrentonBuckley/Documents/TopPolarimetry/files/hard_process_L_10k.root:events\")"
   ]
  },
  {
   "cell_type": "code",
   "execution_count": null,
   "id": "f1561a21-f5de-4f64-a030-7f68a13c782d",
   "metadata": {},
   "outputs": [],
   "source": []
  },
  {
   "cell_type": "code",
   "execution_count": 6,
   "id": "5f2266dc-e200-4a62-a593-9627c256ecd3",
   "metadata": {},
   "outputs": [],
   "source": [
    "massL=fileL[\"mass\"].array()\n",
    "pidL=fileL[\"pid\"].array()\n",
    "pxL=fileL[\"px\"].array()\n",
    "pyL=fileL[\"py\"].array()\n",
    "pzL=fileL[\"pz\"].array()\n",
    "EL=fileL[\"energy\"].array()\n",
    "statusL=fileL[\"status\"].array()"
   ]
  },
  {
   "cell_type": "code",
   "execution_count": 7,
   "id": "ae274ad2-e77e-4bda-843b-08c496a40dad",
   "metadata": {},
   "outputs": [],
   "source": [
    "topquark = []"
   ]
  },
  {
   "cell_type": "code",
   "execution_count": 8,
   "id": "c16daef0-ec5a-417e-94c9-8f8904e818f8",
   "metadata": {},
   "outputs": [],
   "source": [
    "listtop = []\n",
    "for index, events in enumerate(pidL):\n",
    "    for indexp, particles in enumerate(events):\n",
    "        if particles == 6:\n",
    "            listtop.append([index, indexp])"
   ]
  },
  {
   "cell_type": "code",
   "execution_count": 9,
   "id": "900326f2-155b-476f-8a5b-39936532ae4c",
   "metadata": {},
   "outputs": [
    {
     "name": "stdout",
     "output_type": "stream",
     "text": [
      "[[   0    4]\n",
      " [   1    2]\n",
      " [   2    4]\n",
      " ...\n",
      " [9997    2]\n",
      " [9998    4]\n",
      " [9999    2]]\n"
     ]
    }
   ],
   "source": [
    "listtop=numpy.array(listtop)\n",
    "print(listtop)"
   ]
  },
  {
   "cell_type": "code",
   "execution_count": 10,
   "id": "635fabd6-0bcc-4cdd-9d61-864bae4bbf51",
   "metadata": {},
   "outputs": [],
   "source": [
    "eventindex=[]\n",
    "for index in listtop:\n",
    "    eventindex.append(index[0])"
   ]
  },
  {
   "cell_type": "code",
   "execution_count": 11,
   "id": "82f2d4e9-e0df-44ee-8bf9-72df1f718f8f",
   "metadata": {},
   "outputs": [],
   "source": [
    "particleindex=[]\n",
    "for index in listtop:\n",
    "    particleindex.append(index[1])"
   ]
  },
  {
   "cell_type": "code",
   "execution_count": 12,
   "id": "02e1729d-89bd-4fd3-9813-a63b665893aa",
   "metadata": {},
   "outputs": [],
   "source": [
    "topmassLlist=[]\n",
    "for index, mass in enumerate(massL):\n",
    "    #print(index, mas)\n",
    "    #print(particleindex[index])\n",
    "    top_idx=particleindex[index]\n",
    "    top_massL=mass[top_idx]\n",
    "    topmassLlist.append(top_massL)\n",
    "   # if index = particleindex[eventindex]"
   ]
  },
  {
   "cell_type": "code",
   "execution_count": 13,
   "id": "39a0c02e-61ea-4c38-b28e-8df571070742",
   "metadata": {},
   "outputs": [],
   "source": [
    "toppxLlist=[]\n",
    "for index, px in enumerate(pxL):\n",
    "    #print(index, mas)\n",
    "    #print(particleindex[index])\n",
    "    top_idx=particleindex[index]\n",
    "    top_pxL=px[top_idx]\n",
    "    toppxLlist.append(top_pxL)\n",
    "   # if index = particleindex[eventindex]"
   ]
  },
  {
   "cell_type": "code",
   "execution_count": 14,
   "id": "b1dd5d64-2cae-450d-91f5-0a1a3b19ebb4",
   "metadata": {},
   "outputs": [],
   "source": [
    "toppyLlist=[]\n",
    "for index, py in enumerate(pyL):\n",
    "    #print(index, mas)\n",
    "    #print(particleindex[index])\n",
    "    top_idx=particleindex[index]\n",
    "    top_pyL=py[top_idx]\n",
    "    toppyLlist.append(top_pyL)\n",
    "   # if index = particleindex[eventindex]"
   ]
  },
  {
   "cell_type": "code",
   "execution_count": 15,
   "id": "a1750385-7a8e-4c44-b2e5-328c61f168ac",
   "metadata": {},
   "outputs": [],
   "source": [
    "toppzLlist=[]\n",
    "for index, pz in enumerate(pzL):\n",
    "    #print(index, mas)\n",
    "    #print(particleindex[index])\n",
    "    top_idx=particleindex[index]\n",
    "    top_pzL=pz[top_idx]\n",
    "    toppzLlist.append(top_pzL)\n",
    "   # if index = particleindex[eventindex]"
   ]
  },
  {
   "cell_type": "code",
   "execution_count": 16,
   "id": "d896bc03-8cf9-48e0-97cf-9adbef9f5bd1",
   "metadata": {},
   "outputs": [],
   "source": [
    "topELlist=[]\n",
    "for index, energy in enumerate(EL):\n",
    "    #print(index, mas)\n",
    "    #print(particleindex[index])\n",
    "    top_idx=particleindex[index]\n",
    "    top_EL=energy[top_idx]\n",
    "    topELlist.append(top_EL)\n",
    "   # if index = particleindex[eventindex]"
   ]
  },
  {
   "cell_type": "code",
   "execution_count": 17,
   "id": "63e71f5b-d063-4486-a2e2-fe491fad794f",
   "metadata": {},
   "outputs": [],
   "source": [
    "toppxarray=numpy.array(toppxLlist)"
   ]
  },
  {
   "cell_type": "code",
   "execution_count": 18,
   "id": "6513cd54-f1b2-40e2-b168-6b522b02cb19",
   "metadata": {},
   "outputs": [],
   "source": [
    "toppyarray=numpy.array(toppyLlist)"
   ]
  },
  {
   "cell_type": "code",
   "execution_count": 19,
   "id": "e9190dd6-5b4a-42a0-8068-634e5d4a7c74",
   "metadata": {},
   "outputs": [],
   "source": [
    "toppzarray=numpy.array(toppzLlist)"
   ]
  },
  {
   "cell_type": "code",
   "execution_count": 20,
   "id": "f1785c09-41ec-4cb9-a25d-0dfa91b34633",
   "metadata": {},
   "outputs": [],
   "source": [
    "topEarray=numpy.array(topELlist)"
   ]
  },
  {
   "cell_type": "code",
   "execution_count": 21,
   "id": "3aa8e3b9-9f18-48f8-a8e3-98ec719b1178",
   "metadata": {},
   "outputs": [],
   "source": [
    "downquark = []"
   ]
  },
  {
   "cell_type": "code",
   "execution_count": 22,
   "id": "96f4365f-a195-4d46-8e52-4485583b4afe",
   "metadata": {},
   "outputs": [],
   "source": [
    "listdown = []\n",
    "for index, events in enumerate(pidL):\n",
    "    for indexp, particles in enumerate(events):\n",
    "        if particles == 6:\n",
    "            listdown.append([index, indexp])"
   ]
  },
  {
   "cell_type": "code",
   "execution_count": 23,
   "id": "edc8617f-8fd8-47b0-9803-acb1a51634e0",
   "metadata": {},
   "outputs": [],
   "source": [
    "eventindex=[]\n",
    "for index in listdown:\n",
    "    eventindex.append(index[0])"
   ]
  },
  {
   "cell_type": "code",
   "execution_count": 24,
   "id": "efd2aae6-6076-4f78-9305-df0107007993",
   "metadata": {},
   "outputs": [],
   "source": [
    "particledownLindex=[]\n",
    "for index in listdown:\n",
    "    particledownLindex.append(index[1])"
   ]
  },
  {
   "cell_type": "code",
   "execution_count": 25,
   "id": "1cf03430-80a9-4d26-9514-e108c171cfd1",
   "metadata": {},
   "outputs": [],
   "source": [
    "downpxLlist=[]\n",
    "for index, px in enumerate(pxL):\n",
    "    #print(index, mas)\n",
    "    #print(particleindex[index])\n",
    "    down_idx=particledownLindex[index]\n",
    "    down_pxL=px[down_idx]\n",
    "    downpxLlist.append(down_pxL)\n",
    "   # if index = particleindex[eventindex]"
   ]
  },
  {
   "cell_type": "code",
   "execution_count": 26,
   "id": "8066c5d0-973b-46c6-a398-7373e8e9c69a",
   "metadata": {},
   "outputs": [],
   "source": [
    "downpyLlist=[]\n",
    "for index, py in enumerate(pyL):\n",
    "    #print(index, mas)\n",
    "    #print(particleindex[index])\n",
    "    down_idx=particledownLindex[index]\n",
    "    down_pyL=py[down_idx]\n",
    "    downpyLlist.append(down_pyL)\n",
    "   # if index = particleindex[eventindex]"
   ]
  },
  {
   "cell_type": "code",
   "execution_count": 27,
   "id": "c73d9517-366f-4564-aaec-893347e309af",
   "metadata": {},
   "outputs": [],
   "source": [
    "downpzLlist=[]\n",
    "for index, pz in enumerate(pzL):\n",
    "    #print(index, mas)\n",
    "    #print(particleindex[index])\n",
    "    down_idx=particledownLindex[index]\n",
    "    down_pzL=pz[down_idx]\n",
    "    downpzLlist.append(down_pzL)\n",
    "   # if index = particleindex[eventindex]"
   ]
  },
  {
   "cell_type": "code",
   "execution_count": 28,
   "id": "69d94aed-e3f3-4e9e-9ff4-6881279b881f",
   "metadata": {},
   "outputs": [],
   "source": [
    "downELlist=[]\n",
    "for index, energy in enumerate(EL):\n",
    "    #print(index, mas)\n",
    "    #print(particleindex[index])\n",
    "    down_idx=particledownLindex[index]\n",
    "    down_EL=energy[down_idx]\n",
    "    downELlist.append(down_EL)\n",
    "   # if index = particleindex[eventindex]"
   ]
  },
  {
   "cell_type": "code",
   "execution_count": 29,
   "id": "362093cb-9467-416c-b0ae-a077d3a3a59a",
   "metadata": {},
   "outputs": [],
   "source": [
    "downpxarray=numpy.array(downpxLlist)"
   ]
  },
  {
   "cell_type": "code",
   "execution_count": 30,
   "id": "74e45148-c870-45ba-b2e0-87c54bfac0a0",
   "metadata": {},
   "outputs": [],
   "source": [
    "downpyarray=numpy.array(downpyLlist)"
   ]
  },
  {
   "cell_type": "code",
   "execution_count": 31,
   "id": "820a84fc-098a-409d-8887-e36cf1285404",
   "metadata": {},
   "outputs": [],
   "source": [
    "downpzarray=numpy.array(downpzLlist)"
   ]
  },
  {
   "cell_type": "code",
   "execution_count": 32,
   "id": "2f9c09b0-c566-4be3-9c97-6ae910fad9ab",
   "metadata": {},
   "outputs": [],
   "source": [
    "downEarray=numpy.array(downELlist)"
   ]
  },
  {
   "cell_type": "code",
   "execution_count": 33,
   "id": "06745175-c7d0-47e8-8699-172de8610037",
   "metadata": {},
   "outputs": [],
   "source": [
    "inputfeatures=numpy.stack([downpxarray, downpyarray, downpzarray, downEarray, toppxarray, toppyarray, toppzarray, topEarray], axis=-1)"
   ]
  },
  {
   "cell_type": "code",
   "execution_count": 34,
   "id": "8fe143c5-003b-4c42-aafa-a0eb6f4250d3",
   "metadata": {},
   "outputs": [
    {
     "name": "stdout",
     "output_type": "stream",
     "text": [
      "[[0.]\n",
      " [0.]\n",
      " [0.]\n",
      " ...\n",
      " [0.]\n",
      " [0.]\n",
      " [0.]]\n"
     ]
    }
   ],
   "source": [
    "outputlabels=numpy.zeros((len(inputfeatures), 1))\n",
    "print(outputlabels)"
   ]
  },
  {
   "cell_type": "code",
   "execution_count": 35,
   "id": "5d17ecf5-6d0f-477c-86db-313d9fd21646",
   "metadata": {},
   "outputs": [],
   "source": [
    "numpy.save(\"/home/TrentonBuckley/Documents/R&LHandNN/Labels/Input/inputfeaturesL.npy\", inputfeatures)"
   ]
  },
  {
   "cell_type": "code",
   "execution_count": 36,
   "id": "2c83e07d-c679-4f6d-869b-6fff2325f5ef",
   "metadata": {},
   "outputs": [],
   "source": [
    "numpy.save('/home/TrentonBuckley/Documents/R&LHandNN/Labels/Output/outputlabelsL.npy', outputlabels)"
   ]
  },
  {
   "cell_type": "code",
   "execution_count": 37,
   "id": "1adb8720-1a8e-490d-b1b6-90aaa10fbda5",
   "metadata": {},
   "outputs": [
    {
     "name": "stdout",
     "output_type": "stream",
     "text": [
      "(10000, 8)\n"
     ]
    }
   ],
   "source": [
    "print(inputfeatures.shape)"
   ]
  },
  {
   "cell_type": "code",
   "execution_count": null,
   "id": "81d264ee-daa9-44f9-9bf4-1c33ef404554",
   "metadata": {},
   "outputs": [],
   "source": []
  }
 ],
 "metadata": {
  "kernelspec": {
   "display_name": "Python 3 (ipykernel)",
   "language": "python",
   "name": "python3"
  },
  "language_info": {
   "codemirror_mode": {
    "name": "ipython",
    "version": 3
   },
   "file_extension": ".py",
   "mimetype": "text/x-python",
   "name": "python",
   "nbconvert_exporter": "python",
   "pygments_lexer": "ipython3",
   "version": "3.12.9"
  }
 },
 "nbformat": 4,
 "nbformat_minor": 5
}
