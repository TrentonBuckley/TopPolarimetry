{
 "cells": [
  {
   "cell_type": "code",
   "execution_count": 1,
   "id": "0680b28d-a8d3-4a1d-8ec7-aab8d96d2133",
   "metadata": {},
   "outputs": [],
   "source": [
    "import numpy"
   ]
  },
  {
   "cell_type": "code",
   "execution_count": 2,
   "id": "2ecfa27e-1ada-4550-9d59-768ec137f70c",
   "metadata": {},
   "outputs": [],
   "source": [
    "import matplotlib.pyplot as plt"
   ]
  },
  {
   "cell_type": "code",
   "execution_count": 3,
   "id": "30361f16-db0a-44dd-91cc-ab8ef9082eb7",
   "metadata": {},
   "outputs": [
    {
     "name": "stderr",
     "output_type": "stream",
     "text": [
      "2025-07-16 16:18:21.616050: I tensorflow/core/platform/cpu_feature_guard.cc:210] This TensorFlow binary is optimized to use available CPU instructions in performance-critical operations.\n",
      "To enable the following instructions: AVX2 FMA, in other operations, rebuild TensorFlow with the appropriate compiler flags.\n"
     ]
    },
    {
     "name": "stdout",
     "output_type": "stream",
     "text": [
      "2.19.0\n"
     ]
    }
   ],
   "source": [
    "import tensorflow as tf\n",
    "print(tf.__version__)"
   ]
  },
  {
   "cell_type": "code",
   "execution_count": 4,
   "id": "89176b3b-39d5-4c2e-9deb-2806eac2551d",
   "metadata": {},
   "outputs": [],
   "source": [
    "inputfeaturesL=numpy.load('/home/TrentonBuckley/Documents/R&LHandNN/Labels/Input/inputfeaturesL.npy')"
   ]
  },
  {
   "cell_type": "code",
   "execution_count": 5,
   "id": "6545390a-f6cf-4e33-89c1-69c90a9424af",
   "metadata": {},
   "outputs": [],
   "source": [
    "inputfeaturesR=numpy.load('/home/TrentonBuckley/Documents/R&LHandNN/Labels/Input/inputfeaturesR.npy')"
   ]
  },
  {
   "cell_type": "code",
   "execution_count": 6,
   "id": "002a04ec-449c-46ba-a5e0-c76ede1d34d8",
   "metadata": {},
   "outputs": [],
   "source": [
    "outputlabelsL=numpy.load('/home/TrentonBuckley/Documents/R&LHandNN/Labels/Output/outputlabelsL.npy')"
   ]
  },
  {
   "cell_type": "code",
   "execution_count": 7,
   "id": "dfe0a80c-cc96-424b-af8d-3fd7a14f92fb",
   "metadata": {},
   "outputs": [],
   "source": [
    "outputlabelsR=numpy.load('/home/TrentonBuckley/Documents/R&LHandNN/Labels/Output/outputlabelsR.npy')"
   ]
  },
  {
   "cell_type": "code",
   "execution_count": 8,
   "id": "5007c1a9-5151-4267-8a2c-8d62e5a52aa0",
   "metadata": {},
   "outputs": [
    {
     "name": "stdout",
     "output_type": "stream",
     "text": [
      "(10000, 8)\n"
     ]
    }
   ],
   "source": [
    "print(inputfeaturesL.shape)"
   ]
  },
  {
   "cell_type": "code",
   "execution_count": 9,
   "id": "9353648d-ea31-488b-9e6b-c900d4c93fe0",
   "metadata": {},
   "outputs": [],
   "source": [
    "inputfeaturesLR=numpy.concatenate([inputfeaturesL, inputfeaturesR], axis=0)"
   ]
  },
  {
   "cell_type": "code",
   "execution_count": 10,
   "id": "18e4062a-4a23-4d11-b34f-d0acb197bda5",
   "metadata": {},
   "outputs": [],
   "source": [
    "outputlabelsLR=numpy.concatenate([outputlabelsL, outputlabelsR], axis=0)"
   ]
  },
  {
   "cell_type": "code",
   "execution_count": 11,
   "id": "a7428c50-a980-4dd4-a33a-295a7ca60be3",
   "metadata": {},
   "outputs": [],
   "source": [
    "p=numpy.random.permutation(len(inputfeaturesLR))"
   ]
  },
  {
   "cell_type": "code",
   "execution_count": 12,
   "id": "8f0a8ed1-7ad9-4eb2-a0b1-ab10cbdda702",
   "metadata": {},
   "outputs": [],
   "source": [
    "inputfeaturesLR_shuffled=inputfeaturesLR[p]"
   ]
  },
  {
   "cell_type": "code",
   "execution_count": 13,
   "id": "455e4688-e44e-4db8-828f-ed877e8ed73a",
   "metadata": {},
   "outputs": [],
   "source": [
    "outputlabelsLR_shuffled=outputlabelsLR[p]"
   ]
  },
  {
   "cell_type": "code",
   "execution_count": 14,
   "id": "8e4dbad6-ce62-4a65-9ac6-45d8189ba660",
   "metadata": {},
   "outputs": [],
   "source": [
    "inputfeatures_test_shuffled=inputfeaturesLR_shuffled[0:5000]"
   ]
  },
  {
   "cell_type": "code",
   "execution_count": 15,
   "id": "7e4c7a8c-e978-4510-b96b-02e5d65da8a4",
   "metadata": {},
   "outputs": [],
   "source": [
    "inputfeatures_training_shuffled=inputfeaturesLR_shuffled[-15000:-1]"
   ]
  },
  {
   "cell_type": "code",
   "execution_count": 16,
   "id": "8e575f15-9f31-4a4c-8fd8-104d5f28dae6",
   "metadata": {},
   "outputs": [],
   "source": [
    "outputlabels_test_shuffled=outputlabelsLR_shuffled[0:5000]"
   ]
  },
  {
   "cell_type": "code",
   "execution_count": 17,
   "id": "36f2a3f1-90ff-44cb-a62a-417b1f89d30b",
   "metadata": {},
   "outputs": [],
   "source": [
    "outputlabels_training_shuffled=outputlabelsLR_shuffled[-15000:-1]"
   ]
  },
  {
   "cell_type": "code",
   "execution_count": 18,
   "id": "24c50b5f-a777-4152-bbf6-6153c0e0459a",
   "metadata": {},
   "outputs": [],
   "source": [
    "dataset_training=tf.data.Dataset.from_tensor_slices((inputfeatures_training_shuffled, outputlabels_training_shuffled))"
   ]
  },
  {
   "cell_type": "code",
   "execution_count": 19,
   "id": "1af59986-dde0-4d43-8cc0-7986bd8ad444",
   "metadata": {},
   "outputs": [],
   "source": [
    "dataset_test=tf.data.Dataset.from_tensor_slices((inputfeatures_test_shuffled, outputlabels_test_shuffled))"
   ]
  },
  {
   "cell_type": "code",
   "execution_count": 20,
   "id": "abedb522-9f23-47b2-92c2-dcf18cd5e0a0",
   "metadata": {},
   "outputs": [],
   "source": [
    "dataset_training.save(\"/home/TrentonBuckley/Documents/R&LHandNN/TensorFlowFiles/dataset_training.tf\")"
   ]
  },
  {
   "cell_type": "code",
   "execution_count": 21,
   "id": "ec53952c-34c4-4058-8617-848fbff70320",
   "metadata": {},
   "outputs": [],
   "source": [
    "dataset_test.save(\"/home/TrentonBuckley/Documents/R&LHandNN/TensorFlowFiles/dataset_test.tf\")"
   ]
  },
  {
   "cell_type": "code",
   "execution_count": null,
   "id": "595d83f4-312d-4c1d-81da-d17e4d17f1b6",
   "metadata": {},
   "outputs": [],
   "source": []
  }
 ],
 "metadata": {
  "kernelspec": {
   "display_name": "Python 3 (ipykernel)",
   "language": "python",
   "name": "python3"
  },
  "language_info": {
   "codemirror_mode": {
    "name": "ipython",
    "version": 3
   },
   "file_extension": ".py",
   "mimetype": "text/x-python",
   "name": "python",
   "nbconvert_exporter": "python",
   "pygments_lexer": "ipython3",
   "version": "3.12.9"
  }
 },
 "nbformat": 4,
 "nbformat_minor": 5
}
