{
 "cells": [
  {
   "cell_type": "code",
   "execution_count": null,
   "id": "32b47e36-86a3-451d-a419-b122f196a08b",
   "metadata": {},
   "outputs": [],
   "source": [
    "import vector"
   ]
  },
  {
   "cell_type": "code",
   "execution_count": null,
   "id": "4ee35060-2638-4265-bb9c-d448ffc7a3a2",
   "metadata": {},
   "outputs": [],
   "source": [
    "import awkward as ak"
   ]
  },
  {
   "cell_type": "code",
   "execution_count": 3,
   "id": "d61d023e-2ffd-480d-94ba-28ac042a3caf",
   "metadata": {},
   "outputs": [],
   "source": [
    "import uproot"
   ]
  },
  {
   "cell_type": "code",
   "execution_count": 48,
   "id": "9d168e5c-34e2-4e3a-8b3c-fad86082f4e8",
   "metadata": {},
   "outputs": [],
   "source": [
    "vector.register_awkward()"
   ]
  },
  {
   "cell_type": "code",
   "execution_count": 49,
   "id": "0fe7a9cd-6d68-4e1b-abca-784f716a3620",
   "metadata": {},
   "outputs": [],
   "source": [
    "file = uproot.open(\"hard_process_R_10k.root\")"
   ]
  },
  {
   "cell_type": "code",
   "execution_count": 50,
   "id": "143c715b-8f02-46cb-b7ed-e6aae2d35e74",
   "metadata": {},
   "outputs": [],
   "source": [
    "tree = file[\"events\"]"
   ]
  },
  {
   "cell_type": "code",
   "execution_count": 51,
   "id": "991cd408-31ab-4394-85b9-ea031c2da0e7",
   "metadata": {},
   "outputs": [
    {
     "data": {
      "text/plain": [
       "['events;1']"
      ]
     },
     "execution_count": 51,
     "metadata": {},
     "output_type": "execute_result"
    }
   ],
   "source": [
    "file.keys()"
   ]
  },
  {
   "cell_type": "code",
   "execution_count": 52,
   "id": "38553d37-e7e3-406a-8be4-ddce43ad6dd9",
   "metadata": {},
   "outputs": [
    {
     "name": "stdout",
     "output_type": "stream",
     "text": [
      "name                 | typename                 | interpretation                \n",
      "---------------------+--------------------------+-------------------------------\n",
      "numParticles         | int32_t                  | AsDtype('>i4')\n",
      "eventweight          | float                    | AsDtype('>f4')\n",
      "scale                | float                    | AsDtype('>f4')\n",
      "alpha_qed            | float                    | AsDtype('>f4')\n",
      "alpha_qcd            | float                    | AsDtype('>f4')\n",
      "pid                  | std::vector<int32_t>     | AsJagged(AsDtype('>i4'), he...\n",
      "status               | std::vector<int32_t>     | AsJagged(AsDtype('>i4'), he...\n",
      "mother1              | std::vector<int32_t>     | AsJagged(AsDtype('>i4'), he...\n",
      "mother2              | std::vector<int32_t>     | AsJagged(AsDtype('>i4'), he...\n",
      "color1               | std::vector<int32_t>     | AsJagged(AsDtype('>i4'), he...\n",
      "color2               | std::vector<int32_t>     | AsJagged(AsDtype('>i4'), he...\n",
      "px                   | std::vector<float>       | AsJagged(AsDtype('>f4'), he...\n",
      "py                   | std::vector<float>       | AsJagged(AsDtype('>f4'), he...\n",
      "pz                   | std::vector<float>       | AsJagged(AsDtype('>f4'), he...\n",
      "energy               | std::vector<float>       | AsJagged(AsDtype('>f4'), he...\n",
      "mass                 | std::vector<float>       | AsJagged(AsDtype('>f4'), he...\n",
      "tau                  | std::vector<float>       | AsJagged(AsDtype('>f4'), he...\n",
      "spin                 | std::vector<float>       | AsJagged(AsDtype('>f4'), he...\n"
     ]
    }
   ],
   "source": [
    "tree.show()"
   ]
  },
  {
   "cell_type": "code",
   "execution_count": 53,
   "id": "c6cfd7b1-4f6a-40a8-8641-5b4c296ba002",
   "metadata": {},
   "outputs": [],
   "source": [
    "branches = tree.arrays([\"pid\", \"px\", \"py\", \"pz\", \"energy\"])"
   ]
  },
  {
   "cell_type": "code",
   "execution_count": 78,
   "id": "298e1896-de38-4c4a-b500-fa3fd7e3294e",
   "metadata": {},
   "outputs": [],
   "source": [
    "px = branches[\"px\"]\n",
    "py = branches[\"py\"]\n",
    "pz = branches[\"pz\"]\n",
    "E  = branches[\"energy\"]\n",
    "pid = branches[\"pid\"]"
   ]
  },
  {
   "cell_type": "code",
   "execution_count": 85,
   "id": "114fb42a-49e9-4e89-bcbe-28d429ff7214",
   "metadata": {},
   "outputs": [],
   "source": [
    "pid = branches[\"pid\"]\n",
    "vectors = ak.zip({\n",
    "    \"px\": branches[\"px\"],\n",
    "    \"py\": branches[\"py\"],\n",
    "    \"pz\": branches[\"pz\"],\n",
    "    \"E\":  branches[\"energy\"]\n",
    "}, with_name=\"LorentzVector\")"
   ]
  },
  {
   "cell_type": "code",
   "execution_count": 86,
   "id": "6c1b7ce5-c778-44db-bc83-2b44bfda9403",
   "metadata": {},
   "outputs": [],
   "source": [
    "tops = vectors[particles.pid == 6]\n",
    "downs = vectors[abs(particles.pid) == 1]"
   ]
  },
  {
   "cell_type": "code",
   "execution_count": 65,
   "id": "694165f1-d22a-4e6f-b11a-0f1a0bfbbb0c",
   "metadata": {},
   "outputs": [],
   "source": [
    "valid_events_mask = (ak.num(tops) > 0) & (ak.num(downs) > 0)"
   ]
  },
  {
   "cell_type": "code",
   "execution_count": 87,
   "id": "f8f3369a-355b-4c01-add1-1f818e3c8c92",
   "metadata": {},
   "outputs": [],
   "source": [
    "pid_per_event = branches[\"pid\"]\n",
    "vectors_per_event = vectors"
   ]
  },
  {
   "cell_type": "code",
   "execution_count": 88,
   "id": "67e50fe9-a305-4560-837b-0ae4be527511",
   "metadata": {},
   "outputs": [],
   "source": [
    "has_top = ak.any(pid_per_event == 6, axis=1)\n",
    "has_down = ak.any(abs(pid_per_event) == 1, axis=1)\n",
    "valid_mask = has_top & has_down"
   ]
  },
  {
   "cell_type": "code",
   "execution_count": 89,
   "id": "61616fed-43fe-4fcd-8e1e-b74ba36615e7",
   "metadata": {},
   "outputs": [],
   "source": [
    "vectors_valid = vectors_per_event[valid_mask]\n",
    "pid_valid = pid_per_event[valid_mask]"
   ]
  },
  {
   "cell_type": "code",
   "execution_count": 91,
   "id": "7a934657-7e7f-4590-aecf-e8a0b304165a",
   "metadata": {},
   "outputs": [],
   "source": [
    "tops = vectors_valid[pid_valid == 6]\n",
    "downs = vectors_valid[abs(pid_valid) == 1]"
   ]
  },
  {
   "cell_type": "code",
   "execution_count": 92,
   "id": "e19e42a9-a11c-477c-996f-d6936418d19e",
   "metadata": {},
   "outputs": [],
   "source": [
    "top_vecs = tops[:, 0]\n",
    "down_vecs = downs[:, 0]"
   ]
  },
  {
   "cell_type": "code",
   "execution_count": 96,
   "id": "da852f3f-ac32-4ebc-8dfc-a7ed9a248879",
   "metadata": {},
   "outputs": [
    {
     "name": "stdout",
     "output_type": "stream",
     "text": [
      "<class 'awkward.highlevel.Record'>\n",
      "5249 * LorentzVector[px: float32, py: float32, pz: float32, E: float32]\n",
      "['px', 'py', 'pz', 'E']\n"
     ]
    }
   ],
   "source": [
    "print(type(down_vecs[0]))\n",
    "print(down_vecs.type)\n",
    "print(down_vecs.fields)"
   ]
  },
  {
   "cell_type": "code",
   "execution_count": 97,
   "id": "cf1ddf92-515e-4576-b702-832676ec7ed1",
   "metadata": {},
   "outputs": [
    {
     "name": "stdout",
     "output_type": "stream",
     "text": [
      "<class 'awkward.highlevel.Record'>\n",
      "5249 * LorentzVector[px: float32, py: float32, pz: float32, E: float32]\n",
      "['px', 'py', 'pz', 'E']\n"
     ]
    }
   ],
   "source": [
    "print(type(top_vecs[0]))\n",
    "print(top_vecs.type)\n",
    "print(top_vecs.fields)"
   ]
  },
  {
   "cell_type": "code",
   "execution_count": null,
   "id": "4f8f2737-d2d3-4b5b-8378-4236608a6cb7",
   "metadata": {},
   "outputs": [],
   "source": []
  },
  {
   "cell_type": "code",
   "execution_count": null,
   "id": "3f37917e-f2d6-458b-9502-02367f12286e",
   "metadata": {},
   "outputs": [],
   "source": []
  },
  {
   "cell_type": "code",
   "execution_count": null,
   "id": "4716c5a4-f9a4-47bf-87ac-293ba7385bc6",
   "metadata": {},
   "outputs": [],
   "source": []
  }
 ],
 "metadata": {
  "kernelspec": {
   "display_name": "Python 3 (ipykernel)",
   "language": "python",
   "name": "python3"
  },
  "language_info": {
   "codemirror_mode": {
    "name": "ipython",
    "version": 3
   },
   "file_extension": ".py",
   "mimetype": "text/x-python",
   "name": "python",
   "nbconvert_exporter": "python",
   "pygments_lexer": "ipython3",
   "version": "3.12.9"
  }
 },
 "nbformat": 4,
 "nbformat_minor": 5
}
